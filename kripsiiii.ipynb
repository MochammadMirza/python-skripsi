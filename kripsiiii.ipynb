{
 "cells": [
  {
   "cell_type": "code",
   "execution_count": 5,
   "metadata": {},
   "outputs": [],
   "source": [
    "import tensorflow as tf\n",
    "from tensorflow.keras.optimizers  import RMSprop\n",
    "from tensorflow.keras.preprocessing.image import ImageDataGenerator\n",
    "import os"
   ]
  },
  {
   "cell_type": "code",
   "execution_count": 6,
   "metadata": {},
   "outputs": [
    {
     "name": "stdout",
     "output_type": "stream",
     "text": [
      "2.17.0\n"
     ]
    }
   ],
   "source": [
    "print(tf.__version__)"
   ]
  },
  {
   "cell_type": "code",
   "execution_count": 7,
   "metadata": {},
   "outputs": [],
   "source": [
    "base_dir = 'D:\\\\SKRIPSI\\\\mirza ora ori\\\\Chess'"
   ]
  },
  {
   "cell_type": "code",
   "execution_count": 8,
   "metadata": {},
   "outputs": [
    {
     "data": {
      "text/plain": [
       "['Bishop', 'King', 'Knight', 'Pawn', 'Queen', 'Rook']"
      ]
     },
     "execution_count": 8,
     "metadata": {},
     "output_type": "execute_result"
    }
   ],
   "source": [
    "os.listdir('D:\\\\SKRIPSI\\\\mirza ora ori\\\\Chess')"
   ]
  },
  {
   "cell_type": "code",
   "execution_count": 9,
   "metadata": {},
   "outputs": [],
   "source": [
    "train_datagen = ImageDataGenerator(\n",
    "    rescale = 1./255,\n",
    "    rotation_range = 20,\n",
    "    horizontal_flip = True,\n",
    "    shear_range = 0.2,\n",
    "    validation_split = 0.4,\n",
    "    fill_mode = 'nearest')\n",
    "\n",
    "test_datagen = ImageDataGenerator(\n",
    "    rescale=1./255\n",
    ")"
   ]
  },
  {
   "cell_type": "code",
   "execution_count": 10,
   "metadata": {},
   "outputs": [
    {
     "name": "stdout",
     "output_type": "stream",
     "text": [
      "Found 333 images belonging to 6 classes.\n"
     ]
    },
    {
     "name": "stdout",
     "output_type": "stream",
     "text": [
      "Found 333 images belonging to 6 classes.\n"
     ]
    }
   ],
   "source": [
    "train_generator =train_datagen.flow_from_directory(\n",
    "    base_dir,\n",
    "    target_size=(150,150),\n",
    "    batch_size=32,\n",
    "    class_mode='categorical',\n",
    "    subset='training')\n",
    "\n",
    "validation_generator = train_datagen.flow_from_directory(\n",
    "    base_dir,\n",
    "    target_size=(150,150),\n",
    "    batch_size=32,\n",
    "    class_mode='categorical',\n",
    "    subset='training'\n",
    ")"
   ]
  },
  {
   "cell_type": "code",
   "execution_count": 11,
   "metadata": {},
   "outputs": [
    {
     "name": "stderr",
     "output_type": "stream",
     "text": [
      "c:\\Users\\LORD\\AppData\\Local\\Programs\\Python\\Python311\\Lib\\site-packages\\keras\\src\\layers\\convolutional\\base_conv.py:107: UserWarning: Do not pass an `input_shape`/`input_dim` argument to a layer. When using Sequential models, prefer using an `Input(shape)` object as the first layer in the model instead.\n",
      "  super().__init__(activity_regularizer=activity_regularizer, **kwargs)\n"
     ]
    }
   ],
   "source": [
    "model = tf.keras.models.Sequential([\n",
    "    tf.keras.layers.Conv2D(32,(3,3),activation='relu',input_shape=(150,150,3)),\n",
    "    tf.keras.layers.MaxPooling2D(2,2),\n",
    "    tf.keras.layers.Conv2D(64,(3,3),activation='relu'),\n",
    "    tf.keras.layers.MaxPooling2D(2,2),\n",
    "    tf.keras.layers.Conv2D(128,(3,3),activation='relu'),\n",
    "    tf.keras.layers.MaxPooling2D(2,2),\n",
    "    tf.keras.layers.Conv2D(128,(3,3),activation='relu'),\n",
    "    tf.keras.layers.MaxPooling2D(2,2),\n",
    "    tf.keras.layers.Flatten(),\n",
    "    tf.keras.layers.Dense(512,activation='relu'),\n",
    "    tf.keras.layers.Dense(6, activation='softmax'),\n",
    "\n",
    "])"
   ]
  },
  {
   "cell_type": "code",
   "execution_count": 12,
   "metadata": {},
   "outputs": [],
   "source": [
    "model.compile(loss='categorical_crossentropy',\n",
    "              optimizer=tf._optimizers.Adam(),\n",
    "              metrics=['accuracy'])"
   ]
  },
  {
   "cell_type": "code",
   "execution_count": 13,
   "metadata": {},
   "outputs": [
    {
     "name": "stderr",
     "output_type": "stream",
     "text": [
      "c:\\Users\\LORD\\AppData\\Local\\Programs\\Python\\Python311\\Lib\\site-packages\\keras\\src\\trainers\\data_adapters\\py_dataset_adapter.py:121: UserWarning: Your `PyDataset` class should call `super().__init__(**kwargs)` in its constructor. `**kwargs` can include `workers`, `use_multiprocessing`, `max_queue_size`. Do not pass these arguments to `fit()`, as they will be ignored.\n",
      "  self._warn_if_super_not_called()\n"
     ]
    },
    {
     "name": "stdout",
     "output_type": "stream",
     "text": [
      "Epoch 1/20\n"
     ]
    },
    {
     "name": "stderr",
     "output_type": "stream",
     "text": [
      "c:\\Users\\LORD\\AppData\\Local\\Programs\\Python\\Python311\\Lib\\contextlib.py:155: UserWarning: Your input ran out of data; interrupting training. Make sure that your dataset or generator can generate at least `steps_per_epoch * epochs` batches. You may need to use the `.repeat()` function when building your dataset.\n",
      "  self.gen.throw(typ, value, traceback)\n",
      "c:\\Users\\LORD\\AppData\\Local\\Programs\\Python\\Python311\\Lib\\site-packages\\keras\\src\\trainers\\data_adapters\\py_dataset_adapter.py:121: UserWarning: Your `PyDataset` class should call `super().__init__(**kwargs)` in its constructor. `**kwargs` can include `workers`, `use_multiprocessing`, `max_queue_size`. Do not pass these arguments to `fit()`, as they will be ignored.\n",
      "  self._warn_if_super_not_called()\n"
     ]
    },
    {
     "name": "stdout",
     "output_type": "stream",
     "text": [
      "25/25 - 36s - 1s/step - accuracy: 0.2072 - loss: 1.8440 - val_accuracy: 0.2125 - val_loss: 1.7763\n",
      "Epoch 2/20\n",
      "25/25 - 34s - 1s/step - accuracy: 0.2342 - loss: 1.7708 - val_accuracy: 0.2250 - val_loss: 1.7395\n",
      "Epoch 3/20\n",
      "25/25 - 44s - 2s/step - accuracy: 0.2402 - loss: 1.7409 - val_accuracy: 0.3846 - val_loss: 1.7222\n",
      "Epoch 4/20\n",
      "25/25 - 31s - 1s/step - accuracy: 0.2703 - loss: 1.6886 - val_accuracy: 0.2750 - val_loss: 1.6617\n",
      "Epoch 5/20\n",
      "25/25 - 50s - 2s/step - accuracy: 0.3183 - loss: 1.6242 - val_accuracy: 0.3562 - val_loss: 1.5462\n",
      "Epoch 6/20\n",
      "25/25 - 34s - 1s/step - accuracy: 0.3453 - loss: 1.5738 - val_accuracy: 0.3077 - val_loss: 1.8246\n",
      "Epoch 7/20\n",
      "25/25 - 32s - 1s/step - accuracy: 0.4264 - loss: 1.5332 - val_accuracy: 0.4812 - val_loss: 1.4083\n",
      "Epoch 8/20\n",
      "25/25 - 34s - 1s/step - accuracy: 0.4234 - loss: 1.4032 - val_accuracy: 0.5000 - val_loss: 1.2818\n",
      "Epoch 9/20\n",
      "25/25 - 36s - 1s/step - accuracy: 0.4625 - loss: 1.3937 - val_accuracy: 0.5385 - val_loss: 0.9801\n",
      "Epoch 10/20\n",
      "25/25 - 54s - 2s/step - accuracy: 0.5075 - loss: 1.2513 - val_accuracy: 0.5875 - val_loss: 1.1659\n",
      "Epoch 11/20\n",
      "25/25 - 63s - 3s/step - accuracy: 0.5646 - loss: 1.1951 - val_accuracy: 0.5250 - val_loss: 1.1850\n",
      "Epoch 12/20\n",
      "25/25 - 25s - 999ms/step - accuracy: 0.5856 - loss: 1.1261 - val_accuracy: 0.6154 - val_loss: 1.1869\n",
      "Epoch 13/20\n",
      "25/25 - 38s - 2s/step - accuracy: 0.5646 - loss: 1.1268 - val_accuracy: 0.6625 - val_loss: 0.9295\n",
      "Epoch 14/20\n",
      "25/25 - 32s - 1s/step - accuracy: 0.6426 - loss: 0.9737 - val_accuracy: 0.6250 - val_loss: 1.0147\n",
      "Epoch 15/20\n",
      "25/25 - 30s - 1s/step - accuracy: 0.6667 - loss: 0.9226 - val_accuracy: 0.6154 - val_loss: 0.6905\n",
      "Epoch 16/20\n",
      "25/25 - 33s - 1s/step - accuracy: 0.6967 - loss: 0.8557 - val_accuracy: 0.6562 - val_loss: 0.8210\n",
      "Epoch 17/20\n",
      "25/25 - 28s - 1s/step - accuracy: 0.7387 - loss: 0.8280 - val_accuracy: 0.7625 - val_loss: 0.7242\n",
      "Epoch 18/20\n",
      "25/25 - 31s - 1s/step - accuracy: 0.7147 - loss: 0.7781 - val_accuracy: 0.6923 - val_loss: 0.9108\n",
      "Epoch 19/20\n",
      "25/25 - 30s - 1s/step - accuracy: 0.7988 - loss: 0.6489 - val_accuracy: 0.8250 - val_loss: 0.5635\n",
      "Epoch 20/20\n",
      "25/25 - 32s - 1s/step - accuracy: 0.7658 - loss: 0.6265 - val_accuracy: 0.7812 - val_loss: 0.6454\n"
     ]
    },
    {
     "data": {
      "text/plain": [
       "<keras.src.callbacks.history.History at 0x1b7c1a1fa90>"
      ]
     },
     "execution_count": 13,
     "metadata": {},
     "output_type": "execute_result"
    }
   ],
   "source": [
    "model.fit(\n",
    "    train_generator,\n",
    "    steps_per_epoch = 25,\n",
    "    epochs = 20,\n",
    "    validation_data=validation_generator,\n",
    "    validation_steps=5,\n",
    "    verbose=2\n",
    ")"
   ]
  },
  {
   "cell_type": "code",
   "execution_count": 14,
   "metadata": {},
   "outputs": [
    {
     "name": "stderr",
     "output_type": "stream",
     "text": [
      "WARNING:absl:You are saving your model as an HDF5 file via `model.save()` or `keras.saving.save_model(model)`. This file format is considered legacy. We recommend using instead the native Keras format, e.g. `model.save('my_model.keras')` or `keras.saving.save_model(model, 'my_model.keras')`. \n"
     ]
    }
   ],
   "source": [
    "model.save('model.h5')"
   ]
  },
  {
   "cell_type": "code",
   "execution_count": 15,
   "metadata": {},
   "outputs": [
    {
     "data": {
      "text/plain": [
       "{'Bishop': 0, 'King': 1, 'Knight': 2, 'Pawn': 3, 'Queen': 4, 'Rook': 5}"
      ]
     },
     "execution_count": 15,
     "metadata": {},
     "output_type": "execute_result"
    }
   ],
   "source": [
    "train_generator.class_indices"
   ]
  }
 ],
 "metadata": {
  "kernelspec": {
   "display_name": "Python 3",
   "language": "python",
   "name": "python3"
  },
  "language_info": {
   "codemirror_mode": {
    "name": "ipython",
    "version": 3
   },
   "file_extension": ".py",
   "mimetype": "text/x-python",
   "name": "python",
   "nbconvert_exporter": "python",
   "pygments_lexer": "ipython3",
   "version": "3.11.0"
  }
 },
 "nbformat": 4,
 "nbformat_minor": 2
}
